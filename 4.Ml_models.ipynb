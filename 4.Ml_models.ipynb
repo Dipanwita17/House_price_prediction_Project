{
 "cells": [
  {
   "cell_type": "code",
   "execution_count": 1,
   "id": "9748b684",
   "metadata": {},
   "outputs": [],
   "source": [
    "import numpy as np\n",
    "import pandas as pd\n",
    "import matplotlib.pyplot as plt\n",
    "from sklearn.model_selection import train_test_split\n",
    "from sklearn.preprocessing import MultiLabelBinarizer,StandardScaler\n",
    "from sklearn.metrics import r2_score,mean_absolute_error,root_mean_squared_error"
   ]
  },
  {
   "cell_type": "code",
   "execution_count": 2,
   "id": "76b73b52",
   "metadata": {},
   "outputs": [],
   "source": [
    "df=pd.read_csv('Encoded_House.csv')\n",
    "\n",
    "x=df.drop(['log_price','price'],axis=1).values\n",
    "y=df['log_price'].values.reshape(-1, 1)\n",
    "\n",
    "#====== Test Train Split======\n",
    "x_train, x_test, y_train, y_test = train_test_split(x, y, test_size=0.2, random_state=42)\n",
    "\n",
    "#====== Standerization ======\n",
    "scaler_x = StandardScaler()\n",
    "x_train = scaler_x.fit_transform(x_train)\n",
    "x_test = scaler_x.transform(x_test)"
   ]
  },
  {
   "cell_type": "markdown",
   "id": "5f8f6533",
   "metadata": {},
   "source": [
    "#### SVM"
   ]
  },
  {
   "cell_type": "code",
   "execution_count": 9,
   "id": "97782eb2",
   "metadata": {},
   "outputs": [],
   "source": [
    "from sklearn.svm import SVR\n",
    "\n",
    "sv=SVR()\n",
    "sv.fit(x_train,y_train.ravel())\n",
    "y_pred_svm=sv.predict(x_test)"
   ]
  },
  {
   "cell_type": "markdown",
   "id": "036a1495",
   "metadata": {},
   "source": [
    "#### Decision Tree"
   ]
  },
  {
   "cell_type": "code",
   "execution_count": 10,
   "id": "8ffa7d3c",
   "metadata": {},
   "outputs": [],
   "source": [
    "from sklearn.tree import DecisionTreeRegressor\n",
    "\n",
    "dt=DecisionTreeRegressor()\n",
    "dt.fit(x_train,y_train)\n",
    "y_pred_dt=dt.predict(x_test)"
   ]
  },
  {
   "cell_type": "markdown",
   "id": "4125bee7",
   "metadata": {},
   "source": [
    "#### Random Forest"
   ]
  },
  {
   "cell_type": "code",
   "execution_count": 12,
   "id": "f3ec3c27",
   "metadata": {},
   "outputs": [],
   "source": [
    "from sklearn.ensemble import RandomForestRegressor\n",
    "\n",
    "rf=RandomForestRegressor(n_estimators=100)\n",
    "rf.fit(x_train,y_train.ravel())\n",
    "y_pred_rf=rf.predict(x_test)"
   ]
  },
  {
   "cell_type": "markdown",
   "id": "127917e0",
   "metadata": {},
   "source": [
    "#### XGBoost"
   ]
  },
  {
   "cell_type": "code",
   "execution_count": 13,
   "id": "2b73ce7a",
   "metadata": {},
   "outputs": [],
   "source": [
    "from xgboost import XGBRegressor\n",
    "\n",
    "xgb = XGBRegressor(\n",
    "    n_estimators=100,\n",
    "    learning_rate=0.1,\n",
    "    max_depth=5,\n",
    "    subsample=0.8,\n",
    "    colsample_bytree=0.8,\n",
    "    random_state=42\n",
    ")\n",
    "xgb.fit(x_train, y_train)\n",
    "y_pred_xgb = xgb.predict(x_test)"
   ]
  },
  {
   "cell_type": "markdown",
   "id": "2144f5d2",
   "metadata": {},
   "source": [
    "#### Evalution"
   ]
  },
  {
   "cell_type": "code",
   "execution_count": 14,
   "id": "a9d3c2fc",
   "metadata": {},
   "outputs": [
    {
     "name": "stdout",
     "output_type": "stream",
     "text": [
      "SVR [ R²: 0.625968, RMSE: 0.43844 ]\n",
      "Decision Tree [ R²: 0.560552, RMSE: 0.47523 ]\n",
      "Random Forest [ R²: 0.774021, RMSE: 0.34079 ]\n",
      "XGBoost [ R²: 0.760819, RMSE: 0.35060 ]\n"
     ]
    }
   ],
   "source": [
    "# ====== Evalution ======\n",
    "def evaluate(y_true, y_pred, label=\"Model\"):\n",
    "    r2 = r2_score(y_true, y_pred)\n",
    "    rmse = root_mean_squared_error(y_true, y_pred)\n",
    "    print(f\"{label} [ R²: {r2:.6f}, RMSE: {rmse:.5f} ]\")\n",
    "\n",
    "evaluate(y_test, y_pred_svm, \"SVR\")\n",
    "evaluate(y_test, y_pred_dt, \"Decision Tree\")\n",
    "evaluate(y_test, y_pred_rf, \"Random Forest\")\n",
    "evaluate(y_test, y_pred_xgb, \"XGBoost\")"
   ]
  }
 ],
 "metadata": {
  "kernelspec": {
   "display_name": "Python 3",
   "language": "python",
   "name": "python3"
  },
  "language_info": {
   "codemirror_mode": {
    "name": "ipython",
    "version": 3
   },
   "file_extension": ".py",
   "mimetype": "text/x-python",
   "name": "python",
   "nbconvert_exporter": "python",
   "pygments_lexer": "ipython3",
   "version": "3.12.0"
  }
 },
 "nbformat": 4,
 "nbformat_minor": 5
}
