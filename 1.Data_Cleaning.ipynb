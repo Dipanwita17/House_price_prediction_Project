{
 "cells": [
  {
   "cell_type": "code",
   "execution_count": 6,
   "id": "60e949e6",
   "metadata": {},
   "outputs": [],
   "source": [
    "import numpy as np\n",
    "import pandas as pd\n",
    "import ast \n",
    "import matplotlib.pyplot as plt\n",
    "from sklearn.model_selection import train_test_split\n",
    "from sklearn.preprocessing import MultiLabelBinarizer,StandardScaler\n",
    "from sklearn.metrics import r2_score"
   ]
  },
  {
   "cell_type": "code",
   "execution_count": 7,
   "id": "3557b066",
   "metadata": {},
   "outputs": [],
   "source": [
    "df=pd.read_csv('house.csv')\n",
    "df['log_price'] = np.log1p(df['price'])"
   ]
  },
  {
   "cell_type": "code",
   "execution_count": 8,
   "id": "7f371dec",
   "metadata": {},
   "outputs": [],
   "source": [
    "# ======Handling the additionalRoom column=======\n",
    "df['additionalRoom'] = df['additionalRoom'].str.split(',')\n",
    "mlb = MultiLabelBinarizer()\n",
    "one_hot = pd.DataFrame(mlb.fit_transform(df['additionalRoom']), columns=mlb.classes_)\n",
    "df = pd.concat([df.drop(columns='additionalRoom'), one_hot], axis=1)\n",
    "\n",
    "# ======Handling the Rating column=======\n",
    "def extract_ratings(rating_str):\n",
    "    try:\n",
    "        items = ast.literal_eval(rating_str) \n",
    "        rating_dict = {}\n",
    "        for item in items:\n",
    "            for category in ['Environment', 'Lifestyle', 'Connectivity', 'Safety']:\n",
    "                if item.startswith(category):\n",
    "                    num = int(item.replace(category, '').split()[0])\n",
    "                    rating_dict[category] = num\n",
    "        return pd.Series(rating_dict)\n",
    "    except:\n",
    "        return pd.Series({cat: 0 for cat in ['Environment', 'Lifestyle', 'Connectivity', 'Safety']})\n",
    "    \n",
    "df_ratings = df['rating'].apply(extract_ratings)\n",
    "df = pd.concat([df, df_ratings], axis=1)\n",
    "df.drop('rating', axis=1, inplace=True)\n",
    "\n",
    "# ======Handling the Balcony column=======\n",
    "df['balcony'] = df['balcony'].replace('3+', 4).astype(int)\n",
    "\n",
    "# ======Handling the furnishDetails column=======\n",
    "def safe_parse_to_list(x):\n",
    "    if isinstance(x, list):\n",
    "        return x\n",
    "    if isinstance(x, str):\n",
    "        try:\n",
    "            return ast.literal_eval(x)\n",
    "        except:\n",
    "            return []\n",
    "    return []\n",
    "\n",
    "def parse_items(row):\n",
    "    result = {}\n",
    "    if not isinstance(row, list): \n",
    "        return result\n",
    "    for item in row:\n",
    "        if isinstance(item, str):\n",
    "            if item.startswith('No '):\n",
    "                key = item.replace('No ', '')\n",
    "                result[key] = 0\n",
    "            else:\n",
    "                parts = item.split(' ', 1)\n",
    "                if len(parts) == 2:\n",
    "                    count, key = parts\n",
    "                    result[key] = int(count)\n",
    "    return result\n",
    "\n",
    "df['furnishDetails'] = df['furnishDetails'].apply(safe_parse_to_list)\n",
    "parsed_data = df['furnishDetails'].apply(parse_items)\n",
    "df_counts = pd.DataFrame(parsed_data.tolist()).fillna(0).astype(int)\n",
    "df = pd.concat([df, df_counts], axis=1)\n",
    "df.drop('furnishDetails', axis=1, inplace=True)\n",
    "\n",
    "#====== Drop Irrelevent Features======\n",
    "df.drop(['property_name','price_per_sqft','property_type','areaWithType','address','nearbyLocations','description','features','society'],axis=1,inplace=True)\n",
    "\n",
    "#====== Encoding ======\n",
    "df=pd.get_dummies(df, columns=['facing','agePossession'])\n",
    "df.drop(['agePossession_undefined','not available'],axis=1,inplace=True)\n",
    "\n",
    "#====== Fil NaN value with mean======\n",
    "for col in ['area','floorNum','log_price','price']:\n",
    "    df[col] = df[col].fillna(df[col].mean())\n"
   ]
  },
  {
   "cell_type": "code",
   "execution_count": 9,
   "id": "7da3314f",
   "metadata": {},
   "outputs": [],
   "source": [
    "df.to_csv('Encoded_House.csv', index=False)"
   ]
  }
 ],
 "metadata": {
  "kernelspec": {
   "display_name": "Python 3",
   "language": "python",
   "name": "python3"
  },
  "language_info": {
   "codemirror_mode": {
    "name": "ipython",
    "version": 3
   },
   "file_extension": ".py",
   "mimetype": "text/x-python",
   "name": "python",
   "nbconvert_exporter": "python",
   "pygments_lexer": "ipython3",
   "version": "3.12.0"
  }
 },
 "nbformat": 4,
 "nbformat_minor": 5
}
